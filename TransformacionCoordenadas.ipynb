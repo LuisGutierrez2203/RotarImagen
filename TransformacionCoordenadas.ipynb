{
 "cells": [
  {
   "cell_type": "code",
   "execution_count": 3,
   "metadata": {},
   "outputs": [],
   "source": [
    "from PIL import Image\n",
    "from PIL.TiffTags import TAGS\n",
    "import re\n",
    "import rasterio\n",
    "import rasterio.features\n",
    "import rasterio.warp\n",
    "from rasterio.transform import Affine\n",
    "import numpy as np \n",
    "import cv2\n",
    "import imutils\n",
    "import matplotlib.pyplot as plt\n",
    "\n"
   ]
  },
  {
   "cell_type": "code",
   "execution_count": 41,
   "metadata": {},
   "outputs": [],
   "source": [
    "def metadata(imagen):\n",
    "    img = Image.open(imagen)\n",
    "# obtenemos los Tags de la metadata y se almacenan en un diccionario\n",
    "    meta_dict = {TAGS[key]: img.tag[key] for key in img.tag_v2}\n",
    "    # Se imprime el diccionario para obtener la composición de los datos\n",
    "    # for rec in meta_dict:\n",
    "    #     print(rec, \":\", meta_dict[rec])\n",
    "\n",
    "    # Extraemos el indicador xmp\n",
    "    p = meta_dict.get(\"XMP\")\n",
    "    s = p.decode(\"UTF-8\")\n",
    "    # dividimos por el salto de linea y obtenemos una lista\n",
    "    div = s.split(\"\\n\")\n",
    "\n",
    "    #eliminamos los espacios vacios \n",
    "\n",
    "    for ind,recorrido in enumerate(div):\n",
    "        div[ind]=recorrido.strip() \n",
    "    usar = div[17]\n",
    "\n",
    "    result = re.search(\":(.*)=\", div[17])\n",
    "    result.group(1)\n",
    "\n",
    "    result2 = re.search(\"\\\"(.*)\\\"\", div[17])\n",
    "    result2.group(1)\n",
    "\n",
    "    metadiccionario = {}\n",
    "    for ind,recorrido in enumerate(div):\n",
    "        try:\n",
    "            metadiccionario[re.search(\":(.*)=\", div[ind]).group(1)] = re.search(\"\\\"(.*)\\\"\", div[ind]).group(1)\n",
    "        except:\n",
    "            pass\n",
    "\n",
    "    metadiccionario = {}\n",
    "    for ind,recorrido in enumerate(div):\n",
    "        try:\n",
    "            metadiccionario[re.search(\":(.*)=\", div[ind]).group(1)] = re.search(\"\\\"(.*)\\\"\", div[ind]).group(1)\n",
    "        except:\n",
    "            pass\n",
    "\n",
    "    #print(metadiccionario)\n",
    "    return metadiccionario\n",
    "\n",
    "def TransfromRaster(img_path, img_ruta):\n",
    "    metadiccionario = metadata(img_path)\n",
    "    \n",
    "    altura_vuelo = float(metadiccionario[\"RelativeAltitude\"])\n",
    "    distancia_focal = float(metadiccionario[\"CalibratedFocalLength\"])\n",
    "\n",
    "    resolucion = altura_vuelo/distancia_focal\n",
    "    print(metadiccionario[\"GpsLongitude\"])\n",
    "    print(metadiccionario[\"GpsLatitude\"])\n",
    "    min_lon = (float(metadiccionario[\"GpsLongitude\"])) - (\n",
    "        float(metadiccionario[\"CalibratedOpticalCenterX\"]) * resolucion) / 111111\n",
    "    max_lon = (float(metadiccionario[\"GpsLongitude\"])) + (\n",
    "        float(metadiccionario[\"CalibratedOpticalCenterX\"]) * resolucion) / 111111\n",
    "    min_lat = (float(metadiccionario[\"GpsLatitude\"])) - (\n",
    "        float(metadiccionario[\"CalibratedOpticalCenterY\"]) * resolucion) / 111111\n",
    "    max_lat = (float(metadiccionario[\"GpsLatitude\"])) + (\n",
    "        float(metadiccionario[\"CalibratedOpticalCenterY\"]) * resolucion) / 111111\n",
    "\n",
    "    img_data = rasterio.open(img_path, 'r')\n",
    "\n",
    "    bands = [1] #Se especifica las cantidades de canales que tiene la imagen.\n",
    "    count_bands = len(bands)\n",
    "    data = img_data.read(bands)\n",
    "    _, width, height = data.shape \n",
    "    print(width/2)\n",
    "    print(height/2)\n",
    "    crs = {'init': 'epsg:4326'}\n",
    "\n",
    "    transform = rasterio.transform.from_bounds(\n",
    "            min_lon, min_lat, max_lon, max_lat, height, width)\n",
    "        \n",
    "    with rasterio.open(\n",
    "        img_ruta,  # Nombre del nuevo archivo georefenciado\n",
    "        'w',\n",
    "        driver='GTiff',\n",
    "        height=height,\n",
    "        width=width,\n",
    "        count=count_bands,\n",
    "        dtype=\"int8\", #Tipo de dato, como la imagenes que se rotaron son de tipo int8, el tipo de escritura debe ser del mismo tipo, para evitar errores a la hora de procesar la imagen\n",
    "        crs=crs,\n",
    "        transform=transform,\n",
    "        ) as dst:\n",
    "            dst.write(data)\n",
    "\n",
    "    return transform"
   ]
  },
  {
   "cell_type": "code",
   "execution_count": 42,
   "metadata": {},
   "outputs": [
    {
     "name": "stdout",
     "output_type": "stream",
     "text": [
      "-74.18553757\n",
      "11.22467042\n",
      "650.0\n",
      "800.0\n"
     ]
    },
    {
     "name": "stderr",
     "output_type": "stream",
     "text": [
      "c:\\Users\\LUIS GUTIERREZ\\Desktop\\IA\\RotarImagen\\env\\Lib\\site-packages\\rasterio\\__init__.py:321: NotGeoreferencedWarning: Dataset has no geotransform, gcps, or rpcs. The identity matrix will be returned.\n",
      "  dataset = DatasetReader(path, driver=driver, sharing=sharing, **kwargs)\n"
     ]
    }
   ],
   "source": [
    "img_path = \"Img/DJI_0011.TIF\"\n",
    "img_ruta = \"Img/ll.TIF\"\n",
    "\n",
    "trans = TransfromRaster(img_path, img_ruta)\n",
    "\n"
   ]
  },
  {
   "cell_type": "code",
   "execution_count": 43,
   "metadata": {},
   "outputs": [
    {
     "name": "stdout",
     "output_type": "stream",
     "text": [
      "(-74.18553751143722, 11.224670361437225)\n"
     ]
    }
   ],
   "source": [
    "with rasterio.open(        \n",
    "        img_ruta,  # Nombre del nuevo archivo georefenciado\n",
    "        'r',\n",
    "        driver='GTiff',\n",
    "        ) as dts:\n",
    "            print(dts.xy(650, 800))"
   ]
  },
  {
   "cell_type": "code",
   "execution_count": 46,
   "metadata": {},
   "outputs": [
    {
     "data": {
      "text/plain": [
       "array([[-74.18555514],\n",
       "       [ 11.22465285],\n",
       "       [  1.        ]])"
      ]
     },
     "execution_count": 46,
     "metadata": {},
     "output_type": "execute_result"
    }
   ],
   "source": [
    "transfor = np.array([[trans.a, trans.b, trans.c], \n",
    "                     [trans.d, trans.e, trans.f],\n",
    "                     [0, 0, 1]], dtype =np.float64)\n",
    "\n",
    "xy = np.array([[650],\n",
    "               [800],\n",
    "               [1]], dtype=np.float64)\n",
    "\n",
    "np.dot(transfor, xy)"
   ]
  }
 ],
 "metadata": {
  "kernelspec": {
   "display_name": "env",
   "language": "python",
   "name": "python3"
  },
  "language_info": {
   "codemirror_mode": {
    "name": "ipython",
    "version": 3
   },
   "file_extension": ".py",
   "mimetype": "text/x-python",
   "name": "python",
   "nbconvert_exporter": "python",
   "pygments_lexer": "ipython3",
   "version": "3.11.2"
  },
  "orig_nbformat": 4
 },
 "nbformat": 4,
 "nbformat_minor": 2
}
