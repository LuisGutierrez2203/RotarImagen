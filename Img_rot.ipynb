{
 "cells": [
  {
   "cell_type": "code",
   "execution_count": 1,
   "metadata": {},
   "outputs": [],
   "source": [
    "from PIL import Image\n",
    "from PIL.TiffTags import TAGS\n",
    "import re\n",
    "import rasterio\n",
    "import rasterio.features\n",
    "import rasterio.warp\n",
    "from rasterio.transform import Affine\n",
    "import numpy as np \n",
    "import cv2\n",
    "import imutils\n",
    "import matplotlib.pyplot as plt"
   ]
  },
  {
   "cell_type": "code",
   "execution_count": 3,
   "metadata": {},
   "outputs": [],
   "source": [
    "def metadata(imagen):\n",
    "    img = Image.open(imagen)\n",
    "# obtenemos los Tags de la metadata y se almacenan en un diccionario\n",
    "    meta_dict = {TAGS[key]: img.tag[key] for key in img.tag_v2}\n",
    "    # Se imprime el diccionario para obtener la composición de los datos\n",
    "    # for rec in meta_dict:\n",
    "    #     print(rec, \":\", meta_dict[rec])\n",
    "\n",
    "    # Extraemos el indicador xmp\n",
    "    p = meta_dict.get(\"XMP\")\n",
    "    s = p.decode(\"UTF-8\")\n",
    "    # dividimos por el salto de linea y obtenemos una lista\n",
    "    div = s.split(\"\\n\")\n",
    "\n",
    "    #eliminamos los espacios vacios \n",
    "\n",
    "    for ind,recorrido in enumerate(div):\n",
    "        div[ind]=recorrido.strip() \n",
    "    usar = div[17]\n",
    "\n",
    "    result = re.search(\":(.*)=\", div[17])\n",
    "    result.group(1)\n",
    "\n",
    "    result2 = re.search(\"\\\"(.*)\\\"\", div[17])\n",
    "    result2.group(1)\n",
    "\n",
    "    metadiccionario = {}\n",
    "    for ind,recorrido in enumerate(div):\n",
    "        try:\n",
    "            metadiccionario[re.search(\":(.*)=\", div[ind]).group(1)] = re.search(\"\\\"(.*)\\\"\", div[ind]).group(1)\n",
    "        except:\n",
    "            pass\n",
    "\n",
    "    metadiccionario = {}\n",
    "    for ind,recorrido in enumerate(div):\n",
    "        try:\n",
    "            metadiccionario[re.search(\":(.*)=\", div[ind]).group(1)] = re.search(\"\\\"(.*)\\\"\", div[ind]).group(1)\n",
    "        except:\n",
    "            pass\n",
    "\n",
    "    print(metadiccionario)\n",
    "    return metadiccionario"
   ]
  },
  {
   "cell_type": "code",
   "execution_count": 5,
   "metadata": {},
   "outputs": [
    {
     "name": "stdout",
     "output_type": "stream",
     "text": [
      "{'xmpmeta xmlns:x': 'adobe:ns:meta/', 'RDF xmlns:rdf': 'http://www.w3.org/1999/02/22-rdf-syntax-ns#', 'Description rdf:about': 'DJI Meta Data', 'tiff': 'http://ns.adobe.com/tiff/1.0/', 'exif': 'http://ns.adobe.com/exif/1.0/', 'xmp': 'http://ns.adobe.com/xap/1.0/', 'xmpMM': 'http://ns.adobe.com/xap/1.0/mm/', 'dc': 'http://purl.org/dc/elements/1.1/', 'crs': 'http://ns.adobe.com/camera-raw-settings/1.0/', 'drone-dji': 'http://www.dji.com/drone-dji/1.0/', 'Camera': 'http://pix4d.com/camera/1.0', 'ModifyDate': '2022-02-11', 'CreateDate': '2022-02-11', 'Make': 'DJI', 'Model': 'FC6360', 'format': 'image/TIF', 'AbsoluteAltitude': '+84.92', 'RelativeAltitude': '+70.20', 'GpsLatitude': '11.22621616', 'GpsLongitude': '-74.18506225', 'GimbalRollDegree': '+0.00', 'GimbalYawDegree': '-95.70', 'GimbalPitchDegree': '-89.90', 'FlightRollDegree': '+6.50', 'FlightYawDegree': '-94.90', 'FlightPitchDegree': '+11.00', 'FlightXSpeed': '+0.00', 'FlightYSpeed': '+0.10', 'FlightZSpeed': '+0.00', 'CamReverse': '0', 'GimbalReverse': '0', 'SelfData': 'Undefined', 'CalibratedFocalLength': '1913.333374', 'CalibratedOpticalCenterX': '800.000000', 'CalibratedOpticalCenterY': '650.000000', 'RtkFlag': '50', 'RtkSrcType': '2', 'RtkStdLon': '0.02103', 'RtkStdLat': '0.01350', 'RtkStdHgt': '0.04473', 'RelativeOpticalCenterX': '-9.81250', 'RelativeOpticalCenterY': '-0.87500', 'DewarpFlag': '0', 'DewarpData': '2019-02-04;1946.6899414,1938.1800537,8.2410278,0.6400146,-0.4091410,0.3551550,0.0014017,0.0014017,-0.3881310', 'DewarpHMatrix': '1.0080700,-0.0037179,6.8375001,0.0051800,0.9988350,-13.7370996,0.0000153,-0.0000099,1.0000000', 'VignettingFlag': '0', 'VignettingData': '0.000218235, 1.20722e-6, -2.8676e-9, 5.1742e-12, -4.16853e-15, 1.36962e-18', 'LS_type': '1', 'Package_idx': '133', 'Cfg_cnt': '1', 'RawData': '7556.000 9439.000 9525.000 9231.000 10361.000 7647.000 8496.000 9989.000 9726.000 10727.000 3949.000 1593.000 2045.000 4087.000 6306.000 5582.000 7500.000 7064.000 ', 'BandName': 'Blue', 'BandFreq': '450(+/-16)nm', 'Irradiance': '10486.181', 'SensorGain': '1.000', 'ExposureTime': '339', 'SensorGainAdjustment': '2.176354', 'SensorIndex': '1', 'CaptureUUID': '70a5539de4c011ebb89ece3ccab36997', 'DroneID': 'ce3ccab369970d2995b38aac35c75ff8', 'Version': '7.0', 'HasSettings': 'False', 'HasCrop': 'False', 'AlreadyApplied': 'False'}\n",
      "Resolución = 0.03668989469056321\n",
      "-74.18532641750595 -74.18479808249405 11.226001523901424 11.226430796098576\n",
      "(1, 1300, 1600)\n"
     ]
    }
   ],
   "source": [
    "img_path = \"Img/DJI_0011.TIF\"  #Dirrecion de la imagen .TIF que se va a rotar\n",
    "\n",
    "metadiccionario = metadata(img_path)\n",
    "\n",
    "centro_x = float(metadiccionario[\"CalibratedOpticalCenterX\"])\n",
    "centro_y = float(metadiccionario[\"CalibratedOpticalCenterY\"])\n",
    "altura_vuelo = float(metadiccionario[\"RelativeAltitude\"])\n",
    "distancia_focal = float(metadiccionario[\"CalibratedFocalLength\"])\n",
    "angulo_giro = float(metadiccionario[\"GimbalYawDegree\"])\n",
    "latitud = float(metadiccionario[\"GpsLatitude\"])\n",
    "longitud = float(metadiccionario[\"GpsLongitude\"])\n",
    "\n",
    "resolucion = altura_vuelo/distancia_focal\n",
    "print(f\"Resolución = {resolucion}\")\n",
    "\n",
    "min_lon = float(metadiccionario[\"GpsLongitude\"]) - (\n",
    "    float(metadiccionario[\"CalibratedOpticalCenterX\"]) * resolucion) / 111111\n",
    "max_lon = float(metadiccionario[\"GpsLongitude\"]) + (\n",
    "    float(metadiccionario[\"CalibratedOpticalCenterX\"]) * resolucion) / 111111\n",
    "min_lat = float(metadiccionario[\"GpsLatitude\"]) - (\n",
    "    float(metadiccionario[\"CalibratedOpticalCenterY\"]) * resolucion) / 111111\n",
    "max_lat = float(metadiccionario[\"GpsLatitude\"]) + (\n",
    "    float(metadiccionario[\"CalibratedOpticalCenterY\"]) * resolucion) / 111111\n",
    "print(min_lon, max_lon, min_lat, max_lat)\n",
    "\n",
    "\n",
    "img_data = rasterio.open(img_path, 'r')\n",
    "\n",
    "data = img_data.read()\n",
    "_, width, height = data.shape\n",
    "transform = rasterio.transform.from_bounds(\n",
    "    min_lon, min_lat, max_lon, max_lat, width, height)\n",
    "\n",
    "crs = {'init': 'epsg:4326'}\n",
    "\n",
    "print(data.shape)"
   ]
  },
  {
   "cell_type": "code",
   "execution_count": 7,
   "metadata": {},
   "outputs": [],
   "source": [
    "with rasterio.open(\n",
    "        \"Img_rotado/Img_rot12.TIF\",  # Nombre del nuevo archivo georefenciado\n",
    "        'w',\n",
    "        driver='GTiff',\n",
    "        height=height,\n",
    "        width=width,\n",
    "        count=1,\n",
    "        dtype=\"float64\",\n",
    "        crs=crs,\n",
    "        transform=transform,\n",
    "    ) as dst:\n",
    "    dst.write(data)"
   ]
  },
  {
   "cell_type": "code",
   "execution_count": 16,
   "metadata": {},
   "outputs": [
    {
     "ename": "AttributeError",
     "evalue": "'NoneType' object has no attribute 'shape'",
     "output_type": "error",
     "traceback": [
      "\u001b[1;31m---------------------------------------------------------------------------\u001b[0m",
      "\u001b[1;31mAttributeError\u001b[0m                            Traceback (most recent call last)",
      "Cell \u001b[1;32mIn[16], line 2\u001b[0m\n\u001b[0;32m      1\u001b[0m l\u001b[39m=\u001b[39mcv2\u001b[39m.\u001b[39mimread(\u001b[39m\"\u001b[39m\u001b[39mImg_rotado/Img_rot12.TIF\u001b[39m\u001b[39m\"\u001b[39m, \u001b[39m1\u001b[39m)\n\u001b[1;32m----> 2\u001b[0m l\u001b[39m.\u001b[39;49mshape\n",
      "\u001b[1;31mAttributeError\u001b[0m: 'NoneType' object has no attribute 'shape'"
     ]
    }
   ],
   "source": []
  },
  {
   "cell_type": "code",
   "execution_count": null,
   "metadata": {},
   "outputs": [],
   "source": []
  }
 ],
 "metadata": {
  "kernelspec": {
   "display_name": "rotarimagen-env",
   "language": "python",
   "name": "python3"
  },
  "language_info": {
   "codemirror_mode": {
    "name": "ipython",
    "version": 3
   },
   "file_extension": ".py",
   "mimetype": "text/x-python",
   "name": "python",
   "nbconvert_exporter": "python",
   "pygments_lexer": "ipython3",
   "version": "3.11.2"
  },
  "orig_nbformat": 4
 },
 "nbformat": 4,
 "nbformat_minor": 2
}
